{
 "cells": [
  {
   "cell_type": "markdown",
   "id": "58153531",
   "metadata": {},
   "source": [
    "SWEET PORTUGAL - Portuguese pastry identifier - Rui Cruzeiro, Jan 2023"
   ]
  },
  {
   "cell_type": "markdown",
   "id": "4975dceb",
   "metadata": {},
   "source": [
    "Sweet Portugal is a tool created for my personal portfolio. It consists on a study of a Convolutional Neural Network that will identify 5 different types of Portuguese pastries and return their name, recipe, and calorie intake. It can be scaled to identify much more; however, that would require an extensive data gathering operation that lies outside of the scope of this project. It would nonetheless be some delicious data mining!"
   ]
  },
  {
   "cell_type": "markdown",
   "id": "a514fbbb",
   "metadata": {},
   "source": [
    "NOTEBOOK 1/2 - DATA AUGMENTATION"
   ]
  },
  {
   "cell_type": "markdown",
   "id": "91ea8d73",
   "metadata": {},
   "source": [
    "The starting data consists on images taken from the Internet or by myself. No food was spoiled during this process -- I ate every pastry I photographed. We start with the following:\n",
    "- Bolo de Arroz: 78 images\n",
    "- Brigadeiro: 69 images\n",
    "- Ovos Moles: 68 images\n",
    "- Pastel de Nata: 67 images\n",
    "- Pastel de Tentúgal: 74 images"
   ]
  },
  {
   "cell_type": "markdown",
   "id": "eacab701",
   "metadata": {},
   "source": [
    "Let's get this information from their folders and store it in a dictionary:"
   ]
  },
  {
   "cell_type": "code",
   "execution_count": 1,
   "id": "5255cf2c",
   "metadata": {},
   "outputs": [],
   "source": [
    "import os\n",
    "\n",
    "available_pastries = [subdir for subdir in os.listdir('raw_data') if not subdir.startswith('.')]\n",
    "available_pastries.sort()\n",
    "available_pastries\n",
    "\n",
    "pastries = {}\n",
    "\n",
    "for pastry in available_pastries:\n",
    "    \n",
    "    pastry_path = os.path.join('raw_data', pastry)\n",
    "    \n",
    "    pastries[pastry] = \\\n",
    "        len([name for name in os.listdir(pastry_path) if name.startswith(pastry)])"
   ]
  },
  {
   "cell_type": "markdown",
   "id": "02bb4992",
   "metadata": {},
   "source": [
    "We'll aim at 130 images per pastry so we can have 100 images for training. We will use the Augmentor package to create new images from the existing ones. This package returns an error if we try to save the new images as JPEG, which is the format of the existing images. We'll use PNG for now and change it later."
   ]
  },
  {
   "cell_type": "code",
   "execution_count": 2,
   "id": "13b915c9",
   "metadata": {},
   "outputs": [
    {
     "name": "stdout",
     "output_type": "stream",
     "text": [
      "Initialised with 78 image(s) found.\n",
      "Output directory set to raw_data/bolo_arroz/output."
     ]
    },
    {
     "name": "stderr",
     "output_type": "stream",
     "text": [
      "Processing <PIL.Image.Image image mode=RGB size=2016x1512 at 0x115FC5310>: 100\n"
     ]
    },
    {
     "name": "stdout",
     "output_type": "stream",
     "text": [
      "Initialised with 69 image(s) found.\n",
      "Output directory set to raw_data/brigadeiro/output."
     ]
    },
    {
     "name": "stderr",
     "output_type": "stream",
     "text": [
      "Processing <PIL.Image.Image image mode=RGB size=650x650 at 0x115F91760>: 100%|\n"
     ]
    },
    {
     "name": "stdout",
     "output_type": "stream",
     "text": [
      "Initialised with 68 image(s) found.\n",
      "Output directory set to raw_data/ovos_moles/output."
     ]
    },
    {
     "name": "stderr",
     "output_type": "stream",
     "text": [
      "Processing <PIL.Image.Image image mode=RGB size=960x662 at 0x116009B80>: 100%|\n"
     ]
    },
    {
     "name": "stdout",
     "output_type": "stream",
     "text": [
      "Initialised with 67 image(s) found.\n",
      "Output directory set to raw_data/pastel_nata/output."
     ]
    },
    {
     "name": "stderr",
     "output_type": "stream",
     "text": [
      "Processing <PIL.Image.Image image mode=RGB size=290x290 at 0x116021190>: 100%|\n"
     ]
    },
    {
     "name": "stdout",
     "output_type": "stream",
     "text": [
      "Initialised with 74 image(s) found.\n",
      "Output directory set to raw_data/pastel_tentugal/output."
     ]
    },
    {
     "name": "stderr",
     "output_type": "stream",
     "text": [
      "Processing <PIL.Image.Image image mode=RGB size=300x300 at 0x116024730>: 100%|\n"
     ]
    }
   ],
   "source": [
    "import Augmentor\n",
    "\n",
    "for pastry, count in pastries.items():\n",
    "    \n",
    "    # image file path\n",
    "    pastry_path = os.path.join('raw_data', pastry)\n",
    "    \n",
    "    # tweak zoom, flipping, brightness and distortion with Augmentor\n",
    "    pipe = Augmentor.Pipeline(pastry_path)\n",
    "    pipe.zoom(probability=0.3, min_factor=0.8, max_factor=1.5)\n",
    "    pipe.flip_top_bottom(probability=0.4)\n",
    "    pipe.random_brightness(probability=0.5, min_factor=0.3, max_factor=1.2)\n",
    "    pipe.random_distortion(probability=1, grid_width=4, grid_height=4, magnitude=8)\n",
    "    \n",
    "    # get a total of 130 images\n",
    "    pipe.set_save_format(save_format='png')\n",
    "    pipe.sample(130 - count)"
   ]
  },
  {
   "cell_type": "markdown",
   "id": "76d71be4",
   "metadata": {},
   "source": [
    "Confirming we now have 130 images for each pastry:"
   ]
  },
  {
   "cell_type": "code",
   "execution_count": 3,
   "id": "c03d8cad",
   "metadata": {},
   "outputs": [
    {
     "name": "stdout",
     "output_type": "stream",
     "text": [
      "New image total for bolo_arroz: 130\n",
      "New image total for brigadeiro: 130\n",
      "New image total for ovos_moles: 130\n",
      "New image total for pastel_nata: 130\n",
      "New image total for pastel_tentugal: 130\n"
     ]
    }
   ],
   "source": [
    "for pastry, count in pastries.items():\n",
    "    \n",
    "    pastry_path = os.path.join('raw_data', pastry, 'output')\n",
    "    new = len([name for name in os.listdir(pastry_path) if name.endswith('.png')])\n",
    "    print('New image total for ' + pastry + ': ' + str(count + new))"
   ]
  },
  {
   "cell_type": "markdown",
   "id": "586ae0f9",
   "metadata": {},
   "source": [
    "Now let's rename the PNG files to JPEG:"
   ]
  },
  {
   "cell_type": "code",
   "execution_count": 4,
   "id": "daef7061",
   "metadata": {},
   "outputs": [],
   "source": [
    "import glob\n",
    "\n",
    "for pastry, count in pastries.items():\n",
    "    \n",
    "    pastry_path = os.path.join('raw_data', pastry, 'output')\n",
    "    for filename in glob.iglob(os.path.join(pastry_path, '*.png')):\n",
    "        os.rename(filename, filename[:-4] + '.jpeg')"
   ]
  },
  {
   "cell_type": "markdown",
   "id": "e6a1fee8",
   "metadata": {},
   "source": [
    "Done! We'll move the files manually to the correct folder to be used in the second notebook of this project, so we can rerun this process from the original images if needed."
   ]
  }
 ],
 "metadata": {
  "kernelspec": {
   "display_name": "Python 3 (ipykernel)",
   "language": "python",
   "name": "python3"
  },
  "language_info": {
   "codemirror_mode": {
    "name": "ipython",
    "version": 3
   },
   "file_extension": ".py",
   "mimetype": "text/x-python",
   "name": "python",
   "nbconvert_exporter": "python",
   "pygments_lexer": "ipython3",
   "version": "3.8.12"
  },
  "toc": {
   "base_numbering": 1,
   "nav_menu": {},
   "number_sections": true,
   "sideBar": true,
   "skip_h1_title": false,
   "title_cell": "Table of Contents",
   "title_sidebar": "Contents",
   "toc_cell": false,
   "toc_position": {},
   "toc_section_display": true,
   "toc_window_display": false
  }
 },
 "nbformat": 4,
 "nbformat_minor": 5
}
